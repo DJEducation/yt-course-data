{
 "cells": [
  {
   "cell_type": "markdown",
   "metadata": {},
   "source": [
    "# Mean, Median, Mode, and introducing NumPy"
   ]
  },
  {
   "cell_type": "markdown",
   "metadata": {},
   "source": [
    "## Mean vs. Median"
   ]
  },
  {
   "cell_type": "markdown",
   "metadata": {},
   "source": [
    "Let's create some fake income data, centered around 27,000 with a normal distribution and standard deviation of 15,000, with 10,000 data points. (We'll discuss those terms more later, if you're not familiar with them.)\n",
    "\n",
    "Then, compute the mean (average) - it should be close to 27,000:"
   ]
  },
  {
   "cell_type": "code",
   "execution_count": 8,
   "metadata": {},
   "outputs": [
    {
     "data": {
      "text/plain": [
       "27165.181806402743"
      ]
     },
     "execution_count": 8,
     "metadata": {},
     "output_type": "execute_result"
    }
   ],
   "source": [
    "import numpy as np\n",
    "\n",
    "incomes = np.random.normal(27000, 15000, 10000)\n",
    "np.mean(incomes)"
   ]
  },
  {
   "cell_type": "markdown",
   "metadata": {},
   "source": [
    "We can segment the income data into 50 buckets, and plot it as a histogram:"
   ]
  },
  {
   "cell_type": "code",
   "execution_count": 18,
   "metadata": {},
   "outputs": [
    {
     "data": {
      "image/png": "[encoded data removed]",
      "text/plain": [
       "<Figure size 432x288 with 1 Axes>"
      ]
     },
     "metadata": {
      "needs_background": "light"
     },
     "output_type": "display_data"
    }
   ],
   "source": [
    "%matplotlib inline\n",
    "import matplotlib.pyplot as plt\n",
    "plt.hist(incomes, 50)\n",
    "plt.show()"
   ]
  },
  {
   "cell_type": "markdown",
   "metadata": {},
   "source": [
    "Now compute the median - since we have a nice, even distribution it too should be close to 27,000:"
   ]
  },
  {
   "cell_type": "code",
   "execution_count": 21,
   "metadata": {},
   "outputs": [
    {
     "data": {
      "text/plain": [
       "27151.554142394896"
      ]
     },
     "execution_count": 21,
     "metadata": {},
     "output_type": "execute_result"
    }
   ],
   "source": [
    "np.median(incomes)"
   ]
  },
  {
   "cell_type": "markdown",
   "metadata": {},
   "source": [
    "Now we'll add Donald Trump into the mix. Darn income inequality!"
   ]
  },
  {
   "cell_type": "code",
   "execution_count": 25,
   "metadata": {},
   "outputs": [],
   "source": [
    "incomes = np.append(incomes, [1000000000])"
   ]
  },
  {
   "cell_type": "markdown",
   "metadata": {},
   "source": [
    "The median won't change much, but the mean does:"
   ]
  },
  {
   "cell_type": "code",
   "execution_count": 26,
   "metadata": {},
   "outputs": [
    {
     "data": {
      "text/plain": [
       "27156.28957810235"
      ]
     },
     "execution_count": 26,
     "metadata": {},
     "output_type": "execute_result"
    }
   ],
   "source": [
    "np.median(incomes)"
   ]
  },
  {
   "cell_type": "code",
   "execution_count": 27,
   "metadata": {},
   "outputs": [
    {
     "data": {
      "text/plain": [
       "127152.46655974675"
      ]
     },
     "execution_count": 27,
     "metadata": {},
     "output_type": "execute_result"
    }
   ],
   "source": [
    "np.mean(incomes)"
   ]
  },
  {
   "cell_type": "markdown",
   "metadata": {},
   "source": [
    "## Mode"
   ]
  },
  {
   "cell_type": "markdown",
   "metadata": {},
   "source": [
    "Next, let's generate some fake age data for 500 people:"
   ]
  },
  {
   "cell_type": "code",
   "execution_count": 40,
   "metadata": {},
   "outputs": [
    {
     "data": {
      "text/plain": [
       "array([52, 51, 53, 83, 69, 60, 31, 31, 76, 71, 39, 75, 75, 27, 85, 73, 77,\n",
       "       66, 48, 55, 80, 71, 68, 55, 62, 41, 51, 32, 42, 82, 84, 42, 30, 54,\n",
       "       42, 85, 61, 60, 58, 39, 55, 56, 79, 20, 54, 20, 79, 34, 45, 21, 39,\n",
       "       64, 57, 87, 65, 61, 34, 46, 82, 59, 60, 35, 53, 29, 22, 54, 53, 47,\n",
       "       89, 53, 30, 74, 39, 84, 84, 53, 89, 68, 45, 66, 27, 79, 44, 26, 18,\n",
       "       57, 84, 20, 28, 21, 27, 25, 24, 71, 45, 59, 38, 80, 71, 46, 38, 50,\n",
       "       87, 56, 20, 72, 86, 74, 27, 74, 77, 52, 80, 30, 39, 89, 40, 45, 36,\n",
       "       47, 74, 70, 37, 29, 36, 80, 58, 23, 59, 81, 77, 29, 75, 22, 32, 51,\n",
       "       63, 83, 72, 53, 66, 45, 75, 51, 88, 26, 45, 89, 41, 27, 74, 75, 49,\n",
       "       19, 87, 85, 21, 75, 25, 26, 54, 88, 69, 30, 74, 54, 29, 75, 86, 80,\n",
       "       33, 74, 53, 30, 34, 78, 32, 22, 43, 48, 18, 46, 60, 71, 71, 22, 32,\n",
       "       57, 34, 47, 70, 46, 61, 30, 81, 77, 30, 19, 89, 86, 71, 61, 21, 24,\n",
       "       64, 45, 32, 88, 45, 26, 39, 31, 81, 19, 19, 31, 56, 56, 56, 46, 27,\n",
       "       77, 83, 37, 83, 21, 18, 42, 25, 35, 21, 80, 85, 68, 53, 66, 80, 58,\n",
       "       89, 25, 34, 37, 42, 38, 74, 46, 73, 60, 74, 75, 36, 67, 44, 74, 68,\n",
       "       63, 35, 58, 74, 54, 72, 71, 48, 64, 20, 66, 82, 24, 64, 44, 84, 57,\n",
       "       64, 32, 68, 57, 62, 79, 31, 67, 46, 56, 22, 32, 27, 87, 46, 58, 34,\n",
       "       62, 83, 26, 40, 30, 33, 56, 53, 57, 37, 62, 74, 57, 22, 76, 38, 89,\n",
       "       71, 58, 71, 74, 24, 30, 81, 52, 38, 31, 28, 78, 28, 24, 79, 21, 82,\n",
       "       70, 47, 56, 72, 61, 52, 64, 38, 21, 87, 21, 51, 53, 70, 76, 26, 86,\n",
       "       27, 32, 58, 69, 44, 44, 61, 25, 37, 19, 55, 25, 52, 60, 39, 21, 33,\n",
       "       54, 61, 67, 35, 47, 68, 20, 28, 82, 31, 73, 23, 18, 39, 47, 40, 37,\n",
       "       37, 80, 78, 20, 32, 41, 42, 50, 38, 74, 65, 34, 46, 36, 20, 26, 37,\n",
       "       75, 78, 24, 18, 31, 71, 65, 44, 73, 34, 85, 66, 75, 74, 45, 34, 25,\n",
       "       21, 71, 63, 37, 32, 77, 81, 30, 57, 32, 38, 65, 83, 28, 62, 67, 42,\n",
       "       46, 38, 22, 18, 38, 85, 50, 35, 37, 21, 77, 29, 27, 54, 36, 46, 88,\n",
       "       75, 89, 65, 79, 79, 61, 80, 58, 44, 22, 53, 39, 50, 76, 73, 25, 37,\n",
       "       30, 52, 61, 36, 25, 25, 30, 40, 69, 88, 34, 44, 36, 39, 84, 57, 29,\n",
       "       74, 43, 31, 74, 40, 83, 55, 47, 54, 73, 55, 18, 30, 24, 61, 51, 55,\n",
       "       29, 88, 24, 46, 62, 42, 68])"
      ]
     },
     "execution_count": 40,
     "metadata": {},
     "output_type": "execute_result"
    }
   ],
   "source": [
    "ages = np.random.randint(18, high=90, size=500)\n",
    "ages"
   ]
  },
  {
   "cell_type": "code",
   "execution_count": 42,
   "metadata": {},
   "outputs": [
    {
     "data": {
      "text/plain": [
       "ModeResult(mode=array([74]), count=array([17]))"
      ]
     },
     "execution_count": 42,
     "metadata": {},
     "output_type": "execute_result"
    }
   ],
   "source": [
    "from scipy import stats\n",
    "stats.mode(ages)"
   ]
  },
  {
   "cell_type": "code",
   "execution_count": null,
   "metadata": {},
   "outputs": [],
   "source": []
  }
 ],
 "metadata": {
  "kernelspec": {
   "display_name": "Python 3",
   "language": "python",
   "name": "python3"
  },
  "language_info": {
   "codemirror_mode": {
    "name": "ipython",
    "version": 3
   },
   "file_extension": ".py",
   "mimetype": "text/x-python",
   "name": "python",
   "nbconvert_exporter": "python",
   "pygments_lexer": "ipython3",
   "version": "3.6.8"
  }
 },
 "nbformat": 4,
 "nbformat_minor": 1
}
